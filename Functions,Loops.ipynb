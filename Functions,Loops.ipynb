{
 "cells": [
  {
   "cell_type": "markdown",
   "id": "e4b949d4",
   "metadata": {},
   "source": [
    "# Functions\n",
    "- In python, there are two types of function.\n",
    "    - Built-in funtions\n",
    "    - User defined function\n",
    "- We can create our own customized functions in python for code reusability."
   ]
  },
  {
   "cell_type": "code",
   "execution_count": 1,
   "id": "c03cfde8",
   "metadata": {
    "ExecuteTime": {
     "end_time": "2023-03-04T05:46:48.224887Z",
     "start_time": "2023-03-04T05:46:48.208333Z"
    }
   },
   "outputs": [],
   "source": [
    "#Basic Function"
   ]
  },
  {
   "cell_type": "code",
   "execution_count": null,
   "id": "44fe4a3f",
   "metadata": {
    "ExecuteTime": {
     "end_time": "2023-03-04T05:28:50.814004Z",
     "start_time": "2023-03-04T05:28:50.783437Z"
    }
   },
   "outputs": [],
   "source": []
  },
  {
   "cell_type": "code",
   "execution_count": null,
   "id": "77be4f62",
   "metadata": {
    "ExecuteTime": {
     "end_time": "2023-03-04T05:28:56.558735Z",
     "start_time": "2023-03-04T05:28:56.536112Z"
    }
   },
   "outputs": [],
   "source": []
  },
  {
   "cell_type": "code",
   "execution_count": null,
   "id": "b442d6bc",
   "metadata": {
    "ExecuteTime": {
     "end_time": "2023-03-04T05:31:02.430996Z",
     "start_time": "2023-03-04T05:31:02.412126Z"
    }
   },
   "outputs": [],
   "source": []
  },
  {
   "cell_type": "code",
   "execution_count": null,
   "id": "ce3201c6",
   "metadata": {
    "ExecuteTime": {
     "end_time": "2023-03-04T05:31:09.203147Z",
     "start_time": "2023-03-04T05:31:09.194764Z"
    }
   },
   "outputs": [],
   "source": []
  },
  {
   "cell_type": "code",
   "execution_count": 2,
   "id": "c96b8c93",
   "metadata": {
    "ExecuteTime": {
     "end_time": "2023-03-04T05:46:48.240954Z",
     "start_time": "2023-03-04T05:46:48.227032Z"
    }
   },
   "outputs": [],
   "source": [
    "#Docstring"
   ]
  },
  {
   "cell_type": "code",
   "execution_count": null,
   "id": "a50ef5a0",
   "metadata": {
    "ExecuteTime": {
     "end_time": "2023-03-04T05:32:29.648005Z",
     "start_time": "2023-03-04T05:32:29.640176Z"
    }
   },
   "outputs": [],
   "source": []
  },
  {
   "cell_type": "code",
   "execution_count": null,
   "id": "1b90c78c",
   "metadata": {
    "ExecuteTime": {
     "end_time": "2023-03-04T05:32:43.237204Z",
     "start_time": "2023-03-04T05:32:43.223182Z"
    }
   },
   "outputs": [],
   "source": []
  },
  {
   "cell_type": "code",
   "execution_count": 3,
   "id": "fc10f05f",
   "metadata": {
    "ExecuteTime": {
     "end_time": "2023-03-04T05:46:48.257449Z",
     "start_time": "2023-03-04T05:46:48.242660Z"
    }
   },
   "outputs": [],
   "source": [
    "#Write a python function which will return me the maximum number\n"
   ]
  },
  {
   "cell_type": "code",
   "execution_count": null,
   "id": "8a269a9a",
   "metadata": {
    "ExecuteTime": {
     "end_time": "2023-03-04T05:33:22.875882Z",
     "start_time": "2023-03-04T05:33:22.862299Z"
    }
   },
   "outputs": [],
   "source": []
  },
  {
   "cell_type": "code",
   "execution_count": 4,
   "id": "003384b1",
   "metadata": {
    "ExecuteTime": {
     "end_time": "2023-03-04T05:46:48.267811Z",
     "start_time": "2023-03-04T05:46:48.260821Z"
    }
   },
   "outputs": [],
   "source": [
    "#*args"
   ]
  },
  {
   "cell_type": "code",
   "execution_count": null,
   "id": "5fbfe8d0",
   "metadata": {
    "ExecuteTime": {
     "end_time": "2023-03-04T05:33:56.339779Z",
     "start_time": "2023-03-04T05:33:56.316121Z"
    }
   },
   "outputs": [],
   "source": []
  },
  {
   "cell_type": "code",
   "execution_count": null,
   "id": "bad7bd8b",
   "metadata": {
    "ExecuteTime": {
     "end_time": "2023-03-04T05:33:56.616431Z",
     "start_time": "2023-03-04T05:33:56.599477Z"
    }
   },
   "outputs": [],
   "source": []
  },
  {
   "cell_type": "markdown",
   "id": "603cc120",
   "metadata": {},
   "source": [
    "# Loops\n",
    "\n",
    "1. While Loop \n",
    "2. For loop"
   ]
  },
  {
   "cell_type": "code",
   "execution_count": 1,
   "id": "9fcf2c15",
   "metadata": {
    "ExecuteTime": {
     "end_time": "2023-03-23T06:04:15.280981Z",
     "start_time": "2023-03-23T06:04:15.250909Z"
    },
    "scrolled": false
   },
   "outputs": [
    {
     "name": "stdout",
     "output_type": "stream",
     "text": [
      "1\n",
      "2\n",
      "3\n",
      "4\n",
      "5\n",
      "6\n",
      "7\n",
      "8\n",
      "9\n"
     ]
    }
   ],
   "source": [
    "#While Loop\n",
    "i = 1\n",
    "\n",
    "while i <10:\n",
    "    print(i)\n",
    "    i = i+1"
   ]
  },
  {
   "cell_type": "code",
   "execution_count": 3,
   "id": "ec0d9c0d",
   "metadata": {
    "ExecuteTime": {
     "end_time": "2023-03-23T06:06:05.898448Z",
     "start_time": "2023-03-23T06:06:05.887800Z"
    }
   },
   "outputs": [
    {
     "data": {
      "text/plain": [
       "range(10, 50)"
      ]
     },
     "execution_count": 3,
     "metadata": {},
     "output_type": "execute_result"
    }
   ],
   "source": [
    "#range function\n",
    "r = range(10,50)\n",
    "r"
   ]
  },
  {
   "cell_type": "code",
   "execution_count": 6,
   "id": "bb2ae0b3",
   "metadata": {
    "ExecuteTime": {
     "end_time": "2023-03-23T06:07:10.095294Z",
     "start_time": "2023-03-23T06:07:10.078474Z"
    }
   },
   "outputs": [],
   "source": [
    "r = list(r)"
   ]
  },
  {
   "cell_type": "code",
   "execution_count": 7,
   "id": "04298fa2",
   "metadata": {
    "ExecuteTime": {
     "end_time": "2023-03-23T06:07:11.996223Z",
     "start_time": "2023-03-23T06:07:11.985607Z"
    }
   },
   "outputs": [
    {
     "data": {
      "text/plain": [
       "[10,\n",
       " 11,\n",
       " 12,\n",
       " 13,\n",
       " 14,\n",
       " 15,\n",
       " 16,\n",
       " 17,\n",
       " 18,\n",
       " 19,\n",
       " 20,\n",
       " 21,\n",
       " 22,\n",
       " 23,\n",
       " 24,\n",
       " 25,\n",
       " 26,\n",
       " 27,\n",
       " 28,\n",
       " 29,\n",
       " 30,\n",
       " 31,\n",
       " 32,\n",
       " 33,\n",
       " 34,\n",
       " 35,\n",
       " 36,\n",
       " 37,\n",
       " 38,\n",
       " 39,\n",
       " 40,\n",
       " 41,\n",
       " 42,\n",
       " 43,\n",
       " 44,\n",
       " 45,\n",
       " 46,\n",
       " 47,\n",
       " 48,\n",
       " 49]"
      ]
     },
     "execution_count": 7,
     "metadata": {},
     "output_type": "execute_result"
    }
   ],
   "source": [
    "r"
   ]
  },
  {
   "cell_type": "code",
   "execution_count": 9,
   "id": "d4d45a83",
   "metadata": {
    "ExecuteTime": {
     "end_time": "2023-03-23T06:10:03.255884Z",
     "start_time": "2023-03-23T06:10:03.246653Z"
    }
   },
   "outputs": [
    {
     "name": "stdout",
     "output_type": "stream",
     "text": [
      "1\n",
      "2\n",
      "3\n",
      "4\n",
      "5\n",
      "6\n",
      "7\n",
      "8\n",
      "9\n"
     ]
    }
   ],
   "source": [
    "#For loop\n",
    "\n",
    "for i in range(1,10):\n",
    "    print(i)"
   ]
  },
  {
   "cell_type": "code",
   "execution_count": 10,
   "id": "e55b50f3",
   "metadata": {
    "ExecuteTime": {
     "end_time": "2023-03-23T06:11:01.269210Z",
     "start_time": "2023-03-23T06:11:01.253689Z"
    }
   },
   "outputs": [],
   "source": [
    "#Company list\n",
    "companies = ['amazon','flipkart','excelr']"
   ]
  },
  {
   "cell_type": "code",
   "execution_count": 11,
   "id": "77bd1973",
   "metadata": {
    "ExecuteTime": {
     "end_time": "2023-03-23T06:12:42.754818Z",
     "start_time": "2023-03-23T06:12:42.743738Z"
    }
   },
   "outputs": [
    {
     "name": "stdout",
     "output_type": "stream",
     "text": [
      "amazon\n",
      "flipkart\n",
      "excelr\n"
     ]
    }
   ],
   "source": [
    "for i in companies:\n",
    "    print(i)"
   ]
  },
  {
   "cell_type": "code",
   "execution_count": 13,
   "id": "b3893ac1",
   "metadata": {
    "ExecuteTime": {
     "end_time": "2023-03-23T06:14:17.848464Z",
     "start_time": "2023-03-23T06:14:17.832693Z"
    }
   },
   "outputs": [
    {
     "name": "stdout",
     "output_type": "stream",
     "text": [
      "www.amazon.com\n",
      "www.flipkart.com\n",
      "www.excelr.com\n"
     ]
    }
   ],
   "source": [
    "for i in companies:\n",
    "    print('www.'+i+'.com')"
   ]
  },
  {
   "cell_type": "code",
   "execution_count": 14,
   "id": "88d750ca",
   "metadata": {
    "ExecuteTime": {
     "end_time": "2023-03-23T06:17:18.736527Z",
     "start_time": "2023-03-23T06:17:18.722825Z"
    }
   },
   "outputs": [
    {
     "name": "stdout",
     "output_type": "stream",
     "text": [
      "1\n",
      "4\n",
      "9\n",
      "16\n",
      "25\n",
      "36\n",
      "49\n",
      "64\n",
      "81\n",
      "100\n"
     ]
    }
   ],
   "source": [
    "#Print square of all the number in the range of 1,10\n",
    "\n",
    "for i in range(1,11):\n",
    "    print(i**2)\n"
   ]
  },
  {
   "cell_type": "code",
   "execution_count": 15,
   "id": "7c1519aa",
   "metadata": {
    "ExecuteTime": {
     "end_time": "2023-03-23T06:19:19.380177Z",
     "start_time": "2023-03-23T06:19:19.374333Z"
    }
   },
   "outputs": [],
   "source": [
    "#Store all the even numbers and odd number is separate lists\n",
    "even = []\n",
    "odd = []\n",
    "\n",
    "for i in range(1,21):\n",
    "    if i%2==0:\n",
    "        even.append(i)\n",
    "    else:\n",
    "        odd.append(i)"
   ]
  },
  {
   "cell_type": "code",
   "execution_count": 16,
   "id": "889d770f",
   "metadata": {
    "ExecuteTime": {
     "end_time": "2023-03-23T06:19:29.183309Z",
     "start_time": "2023-03-23T06:19:29.177136Z"
    }
   },
   "outputs": [
    {
     "data": {
      "text/plain": [
       "[2, 4, 6, 8, 10, 12, 14, 16, 18, 20]"
      ]
     },
     "execution_count": 16,
     "metadata": {},
     "output_type": "execute_result"
    }
   ],
   "source": [
    "even"
   ]
  },
  {
   "cell_type": "code",
   "execution_count": 17,
   "id": "8d805bda",
   "metadata": {
    "ExecuteTime": {
     "end_time": "2023-03-23T06:19:34.136197Z",
     "start_time": "2023-03-23T06:19:34.116959Z"
    }
   },
   "outputs": [
    {
     "data": {
      "text/plain": [
       "[1, 3, 5, 7, 9, 11, 13, 15, 17, 19]"
      ]
     },
     "execution_count": 17,
     "metadata": {},
     "output_type": "execute_result"
    }
   ],
   "source": [
    "odd"
   ]
  },
  {
   "cell_type": "markdown",
   "id": "4f712923",
   "metadata": {},
   "source": [
    "# In-Class Activity:\n",
    "\n",
    "1. Write a program to store all names which starts with 'A' in a list.\n",
    "2. Take a list of numbers and add 5 to each number.\n",
    "3. Create a list of marks and print only marks > 75."
   ]
  },
  {
   "cell_type": "code",
   "execution_count": null,
   "id": "25a64994",
   "metadata": {
    "ExecuteTime": {
     "end_time": "2023-03-04T05:41:19.978724Z",
     "start_time": "2023-03-04T05:41:19.958113Z"
    }
   },
   "outputs": [],
   "source": []
  },
  {
   "cell_type": "code",
   "execution_count": null,
   "id": "f1878f58",
   "metadata": {
    "ExecuteTime": {
     "end_time": "2023-03-04T05:41:33.394340Z",
     "start_time": "2023-03-04T05:41:33.383341Z"
    }
   },
   "outputs": [],
   "source": []
  },
  {
   "cell_type": "code",
   "execution_count": null,
   "id": "be4d5f20",
   "metadata": {
    "ExecuteTime": {
     "end_time": "2023-03-04T05:42:35.920414Z",
     "start_time": "2023-03-04T05:42:35.906374Z"
    }
   },
   "outputs": [],
   "source": []
  },
  {
   "cell_type": "code",
   "execution_count": null,
   "id": "77f3a4b0",
   "metadata": {
    "ExecuteTime": {
     "end_time": "2023-03-04T05:42:49.033068Z",
     "start_time": "2023-03-04T05:42:49.010728Z"
    }
   },
   "outputs": [],
   "source": []
  },
  {
   "cell_type": "code",
   "execution_count": null,
   "id": "e56a57cb",
   "metadata": {
    "ExecuteTime": {
     "end_time": "2023-03-04T05:45:14.668385Z",
     "start_time": "2023-03-04T05:45:14.659746Z"
    }
   },
   "outputs": [],
   "source": []
  },
  {
   "cell_type": "code",
   "execution_count": null,
   "id": "1d2b8abf",
   "metadata": {
    "ExecuteTime": {
     "end_time": "2023-03-04T05:45:46.727167Z",
     "start_time": "2023-03-04T05:45:46.716223Z"
    }
   },
   "outputs": [],
   "source": []
  },
  {
   "cell_type": "code",
   "execution_count": null,
   "id": "8bffc7eb",
   "metadata": {},
   "outputs": [],
   "source": []
  }
 ],
 "metadata": {
  "kernelspec": {
   "display_name": "Python 3 (ipykernel)",
   "language": "python",
   "name": "python3"
  },
  "language_info": {
   "codemirror_mode": {
    "name": "ipython",
    "version": 3
   },
   "file_extension": ".py",
   "mimetype": "text/x-python",
   "name": "python",
   "nbconvert_exporter": "python",
   "pygments_lexer": "ipython3",
   "version": "3.9.13"
  }
 },
 "nbformat": 4,
 "nbformat_minor": 5
}
