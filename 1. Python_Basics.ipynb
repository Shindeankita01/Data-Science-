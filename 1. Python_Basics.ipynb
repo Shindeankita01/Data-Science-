{
 "cells": [
  {
   "cell_type": "markdown",
   "id": "e4d1a026",
   "metadata": {},
   "source": [
    "# Basic Operations in Python"
   ]
  },
  {
   "cell_type": "code",
   "execution_count": 1,
   "id": "2b985c75",
   "metadata": {
    "ExecuteTime": {
     "end_time": "2023-03-21T05:08:55.718706Z",
     "start_time": "2023-03-21T05:08:55.692492Z"
    }
   },
   "outputs": [],
   "source": [
    "#Variable\n",
    "a = 100"
   ]
  },
  {
   "cell_type": "code",
   "execution_count": 2,
   "id": "8a260c9e",
   "metadata": {
    "ExecuteTime": {
     "end_time": "2023-03-21T05:09:11.995645Z",
     "start_time": "2023-03-21T05:09:11.977002Z"
    }
   },
   "outputs": [
    {
     "data": {
      "text/plain": [
       "100"
      ]
     },
     "execution_count": 2,
     "metadata": {},
     "output_type": "execute_result"
    }
   ],
   "source": [
    "a"
   ]
  },
  {
   "cell_type": "code",
   "execution_count": 3,
   "id": "c9a749cf",
   "metadata": {
    "ExecuteTime": {
     "end_time": "2023-03-21T05:09:24.135178Z",
     "start_time": "2023-03-21T05:09:24.118501Z"
    }
   },
   "outputs": [
    {
     "data": {
      "text/plain": [
       "1461534676432"
      ]
     },
     "execution_count": 3,
     "metadata": {},
     "output_type": "execute_result"
    }
   ],
   "source": [
    "id(a)"
   ]
  },
  {
   "cell_type": "code",
   "execution_count": 2,
   "id": "e74d253f",
   "metadata": {
    "ExecuteTime": {
     "end_time": "2023-03-18T12:14:55.678514Z",
     "start_time": "2023-03-18T12:14:55.658735Z"
    }
   },
   "outputs": [],
   "source": [
    "#Arithmetic operators (+,-,*,/,%)"
   ]
  },
  {
   "cell_type": "code",
   "execution_count": 4,
   "id": "acd35272",
   "metadata": {
    "ExecuteTime": {
     "end_time": "2023-03-21T05:10:27.785389Z",
     "start_time": "2023-03-21T05:10:27.772535Z"
    }
   },
   "outputs": [
    {
     "data": {
      "text/plain": [
       "110"
      ]
     },
     "execution_count": 4,
     "metadata": {},
     "output_type": "execute_result"
    }
   ],
   "source": [
    "a+10"
   ]
  },
  {
   "cell_type": "code",
   "execution_count": 6,
   "id": "91c3d50c",
   "metadata": {
    "ExecuteTime": {
     "end_time": "2023-03-21T05:12:27.378547Z",
     "start_time": "2023-03-21T05:12:27.370973Z"
    }
   },
   "outputs": [
    {
     "name": "stdout",
     "output_type": "stream",
     "text": [
      "100\n"
     ]
    }
   ],
   "source": [
    "#This is a single line comment\n",
    "print(100)"
   ]
  },
  {
   "cell_type": "code",
   "execution_count": 8,
   "id": "611860dd",
   "metadata": {
    "ExecuteTime": {
     "end_time": "2023-03-21T05:12:57.848716Z",
     "start_time": "2023-03-21T05:12:57.844674Z"
    }
   },
   "outputs": [],
   "source": [
    "#This is first step\n",
    "#This is second step"
   ]
  },
  {
   "cell_type": "code",
   "execution_count": 9,
   "id": "159d6f1b",
   "metadata": {
    "ExecuteTime": {
     "end_time": "2023-03-21T05:13:30.405735Z",
     "start_time": "2023-03-21T05:13:30.390166Z"
    }
   },
   "outputs": [
    {
     "data": {
      "text/plain": [
       "'This is first line\\nThis is second line'"
      ]
     },
     "execution_count": 9,
     "metadata": {},
     "output_type": "execute_result"
    }
   ],
   "source": [
    "#Multi-line comment\n",
    "'''This is first line\n",
    "This is second line'''\n"
   ]
  },
  {
   "cell_type": "markdown",
   "id": "72a732b2",
   "metadata": {},
   "source": [
    "# Data types in python\n",
    "1. Integer\n",
    "2. Float\n",
    "3. String\n",
    "4. Boolean"
   ]
  },
  {
   "cell_type": "code",
   "execution_count": 10,
   "id": "85545b8e",
   "metadata": {
    "ExecuteTime": {
     "end_time": "2023-03-21T05:15:09.814188Z",
     "start_time": "2023-03-21T05:15:09.794413Z"
    }
   },
   "outputs": [
    {
     "data": {
      "text/plain": [
       "100"
      ]
     },
     "execution_count": 10,
     "metadata": {},
     "output_type": "execute_result"
    }
   ],
   "source": [
    "#Integer\n",
    "a = 100\n",
    "a"
   ]
  },
  {
   "cell_type": "code",
   "execution_count": 11,
   "id": "bdc54922",
   "metadata": {
    "ExecuteTime": {
     "end_time": "2023-03-21T05:15:48.624672Z",
     "start_time": "2023-03-21T05:15:48.602222Z"
    }
   },
   "outputs": [
    {
     "data": {
      "text/plain": [
       "int"
      ]
     },
     "execution_count": 11,
     "metadata": {},
     "output_type": "execute_result"
    }
   ],
   "source": [
    "type(a)"
   ]
  },
  {
   "cell_type": "code",
   "execution_count": 12,
   "id": "7dd85e20",
   "metadata": {
    "ExecuteTime": {
     "end_time": "2023-03-21T05:15:58.107259Z",
     "start_time": "2023-03-21T05:15:58.091963Z"
    }
   },
   "outputs": [
    {
     "data": {
      "text/plain": [
       "float"
      ]
     },
     "execution_count": 12,
     "metadata": {},
     "output_type": "execute_result"
    }
   ],
   "source": [
    "a = 10.5\n",
    "type(a)"
   ]
  },
  {
   "cell_type": "code",
   "execution_count": 23,
   "id": "f2fbad46",
   "metadata": {
    "ExecuteTime": {
     "end_time": "2023-03-21T05:20:03.329799Z",
     "start_time": "2023-03-21T05:20:03.320280Z"
    }
   },
   "outputs": [
    {
     "data": {
      "text/plain": [
       "str"
      ]
     },
     "execution_count": 23,
     "metadata": {},
     "output_type": "execute_result"
    }
   ],
   "source": [
    "s ='We are learning python'\n",
    "type(s)"
   ]
  },
  {
   "cell_type": "code",
   "execution_count": 30,
   "id": "9b89cdbe",
   "metadata": {
    "ExecuteTime": {
     "end_time": "2023-03-21T05:22:16.963846Z",
     "start_time": "2023-03-21T05:22:16.949703Z"
    }
   },
   "outputs": [
    {
     "data": {
      "text/plain": [
       "str"
      ]
     },
     "execution_count": 30,
     "metadata": {},
     "output_type": "execute_result"
    }
   ],
   "source": [
    "s1 = \"We are Learning python\"\n",
    "type(s1)"
   ]
  },
  {
   "cell_type": "code",
   "execution_count": 18,
   "id": "95adac3a",
   "metadata": {
    "ExecuteTime": {
     "end_time": "2023-03-21T05:17:43.881992Z",
     "start_time": "2023-03-21T05:17:43.876211Z"
    }
   },
   "outputs": [],
   "source": [
    "s2 = '''We are learning python'''"
   ]
  },
  {
   "cell_type": "code",
   "execution_count": 19,
   "id": "84744c6e",
   "metadata": {
    "ExecuteTime": {
     "end_time": "2023-03-21T05:17:44.021352Z",
     "start_time": "2023-03-21T05:17:44.011695Z"
    }
   },
   "outputs": [
    {
     "data": {
      "text/plain": [
       "str"
      ]
     },
     "execution_count": 19,
     "metadata": {},
     "output_type": "execute_result"
    }
   ],
   "source": [
    "type(s2)"
   ]
  },
  {
   "cell_type": "code",
   "execution_count": 22,
   "id": "8dbc2fc7",
   "metadata": {
    "ExecuteTime": {
     "end_time": "2023-03-21T05:19:19.455425Z",
     "start_time": "2023-03-21T05:19:19.449258Z"
    }
   },
   "outputs": [
    {
     "data": {
      "text/plain": [
       "\"It's a laptop\""
      ]
     },
     "execution_count": 22,
     "metadata": {},
     "output_type": "execute_result"
    }
   ],
   "source": [
    "sa = \"It's a laptop\"\n",
    "sa"
   ]
  },
  {
   "cell_type": "code",
   "execution_count": 28,
   "id": "3e75211d",
   "metadata": {
    "ExecuteTime": {
     "end_time": "2023-03-21T05:21:30.197089Z",
     "start_time": "2023-03-21T05:21:30.191092Z"
    }
   },
   "outputs": [
    {
     "name": "stdout",
     "output_type": "stream",
     "text": [
      "We are learning python\n"
     ]
    },
    {
     "data": {
      "text/plain": [
       "'We are learning python'"
      ]
     },
     "execution_count": 28,
     "metadata": {},
     "output_type": "execute_result"
    }
   ],
   "source": [
    "print(s)\n",
    "s1"
   ]
  },
  {
   "cell_type": "code",
   "execution_count": 31,
   "id": "b39b3464",
   "metadata": {
    "ExecuteTime": {
     "end_time": "2023-03-21T05:22:20.512930Z",
     "start_time": "2023-03-21T05:22:20.504891Z"
    }
   },
   "outputs": [
    {
     "data": {
      "text/plain": [
       "False"
      ]
     },
     "execution_count": 31,
     "metadata": {},
     "output_type": "execute_result"
    }
   ],
   "source": [
    "s==s1"
   ]
  },
  {
   "cell_type": "code",
   "execution_count": 32,
   "id": "c9dbdbfd",
   "metadata": {
    "ExecuteTime": {
     "end_time": "2023-03-21T05:22:59.147927Z",
     "start_time": "2023-03-21T05:22:59.133134Z"
    }
   },
   "outputs": [
    {
     "data": {
      "text/plain": [
       "True"
      ]
     },
     "execution_count": 32,
     "metadata": {},
     "output_type": "execute_result"
    }
   ],
   "source": [
    "b = True\n",
    "b"
   ]
  },
  {
   "cell_type": "code",
   "execution_count": 33,
   "id": "cd4e5dd6",
   "metadata": {
    "ExecuteTime": {
     "end_time": "2023-03-21T05:23:03.694749Z",
     "start_time": "2023-03-21T05:23:03.677925Z"
    }
   },
   "outputs": [
    {
     "data": {
      "text/plain": [
       "bool"
      ]
     },
     "execution_count": 33,
     "metadata": {},
     "output_type": "execute_result"
    }
   ],
   "source": [
    "type(b)"
   ]
  },
  {
   "cell_type": "markdown",
   "id": "6c46cfad",
   "metadata": {},
   "source": [
    "# Typecasting\n",
    "\n",
    "- Typecasting is used to change the data types."
   ]
  },
  {
   "cell_type": "code",
   "execution_count": 36,
   "id": "e74aa1ba",
   "metadata": {
    "ExecuteTime": {
     "end_time": "2023-03-21T05:25:31.543099Z",
     "start_time": "2023-03-21T05:25:31.524891Z"
    }
   },
   "outputs": [
    {
     "data": {
      "text/plain": [
       "int"
      ]
     },
     "execution_count": 36,
     "metadata": {},
     "output_type": "execute_result"
    }
   ],
   "source": [
    "i = 10\n",
    "type(i)"
   ]
  },
  {
   "cell_type": "code",
   "execution_count": 38,
   "id": "f9f07597",
   "metadata": {
    "ExecuteTime": {
     "end_time": "2023-03-21T05:26:19.183137Z",
     "start_time": "2023-03-21T05:26:19.168700Z"
    }
   },
   "outputs": [
    {
     "data": {
      "text/plain": [
       "10.0"
      ]
     },
     "execution_count": 38,
     "metadata": {},
     "output_type": "execute_result"
    }
   ],
   "source": [
    "i = float(i)\n",
    "i"
   ]
  },
  {
   "cell_type": "code",
   "execution_count": 39,
   "id": "0b1af55a",
   "metadata": {
    "ExecuteTime": {
     "end_time": "2023-03-21T05:26:24.181801Z",
     "start_time": "2023-03-21T05:26:24.167101Z"
    }
   },
   "outputs": [
    {
     "data": {
      "text/plain": [
       "float"
      ]
     },
     "execution_count": 39,
     "metadata": {},
     "output_type": "execute_result"
    }
   ],
   "source": [
    "type(i)"
   ]
  },
  {
   "cell_type": "code",
   "execution_count": 41,
   "id": "af76e562",
   "metadata": {
    "ExecuteTime": {
     "end_time": "2023-03-21T05:27:10.071961Z",
     "start_time": "2023-03-21T05:27:10.066291Z"
    }
   },
   "outputs": [],
   "source": [
    "s = str(i)"
   ]
  },
  {
   "cell_type": "code",
   "execution_count": 42,
   "id": "f2fcb76c",
   "metadata": {
    "ExecuteTime": {
     "end_time": "2023-03-21T05:27:13.182657Z",
     "start_time": "2023-03-21T05:27:13.164759Z"
    }
   },
   "outputs": [
    {
     "data": {
      "text/plain": [
       "str"
      ]
     },
     "execution_count": 42,
     "metadata": {},
     "output_type": "execute_result"
    }
   ],
   "source": [
    "type(s)"
   ]
  },
  {
   "cell_type": "code",
   "execution_count": 43,
   "id": "85802133",
   "metadata": {
    "ExecuteTime": {
     "end_time": "2023-03-21T05:27:32.984535Z",
     "start_time": "2023-03-21T05:27:32.964953Z"
    }
   },
   "outputs": [
    {
     "data": {
      "text/plain": [
       "10.0"
      ]
     },
     "execution_count": 43,
     "metadata": {},
     "output_type": "execute_result"
    }
   ],
   "source": [
    "i"
   ]
  },
  {
   "cell_type": "code",
   "execution_count": 44,
   "id": "6239317c",
   "metadata": {
    "ExecuteTime": {
     "end_time": "2023-03-21T05:28:24.645815Z",
     "start_time": "2023-03-21T05:28:24.631248Z"
    }
   },
   "outputs": [
    {
     "data": {
      "text/plain": [
       "True"
      ]
     },
     "execution_count": 44,
     "metadata": {},
     "output_type": "execute_result"
    }
   ],
   "source": [
    "bool(i)"
   ]
  },
  {
   "cell_type": "code",
   "execution_count": 45,
   "id": "1ba86a3d",
   "metadata": {
    "ExecuteTime": {
     "end_time": "2023-03-21T05:28:33.696685Z",
     "start_time": "2023-03-21T05:28:33.679927Z"
    }
   },
   "outputs": [
    {
     "data": {
      "text/plain": [
       "int"
      ]
     },
     "execution_count": 45,
     "metadata": {},
     "output_type": "execute_result"
    }
   ],
   "source": [
    "z = 0\n",
    "type(z)"
   ]
  },
  {
   "cell_type": "code",
   "execution_count": 46,
   "id": "d105fd58",
   "metadata": {
    "ExecuteTime": {
     "end_time": "2023-03-21T05:28:39.795683Z",
     "start_time": "2023-03-21T05:28:39.783388Z"
    }
   },
   "outputs": [
    {
     "data": {
      "text/plain": [
       "False"
      ]
     },
     "execution_count": 46,
     "metadata": {},
     "output_type": "execute_result"
    }
   ],
   "source": [
    "bool(z)"
   ]
  },
  {
   "cell_type": "code",
   "execution_count": 6,
   "id": "0b7dbc55",
   "metadata": {
    "ExecuteTime": {
     "end_time": "2023-03-18T12:14:55.744473Z",
     "start_time": "2023-03-18T12:14:55.737298Z"
    }
   },
   "outputs": [],
   "source": [
    "#We can convert any type of values to bool type, and the output for all values will be True , \n",
    "#Except 0, which is False\n"
   ]
  },
  {
   "cell_type": "markdown",
   "id": "25d2594c",
   "metadata": {},
   "source": [
    "# String methods"
   ]
  },
  {
   "cell_type": "code",
   "execution_count": 48,
   "id": "692d80bf",
   "metadata": {
    "ExecuteTime": {
     "end_time": "2023-03-21T05:29:16.716891Z",
     "start_time": "2023-03-21T05:29:16.695830Z"
    }
   },
   "outputs": [
    {
     "data": {
      "text/plain": [
       "'We are Learning python'"
      ]
     },
     "execution_count": 48,
     "metadata": {},
     "output_type": "execute_result"
    }
   ],
   "source": [
    "#Create string\n",
    "s1"
   ]
  },
  {
   "cell_type": "code",
   "execution_count": 49,
   "id": "8f261d39",
   "metadata": {
    "ExecuteTime": {
     "end_time": "2023-03-21T05:30:01.056686Z",
     "start_time": "2023-03-21T05:30:01.049295Z"
    }
   },
   "outputs": [
    {
     "data": {
      "text/plain": [
       "'We are learning python'"
      ]
     },
     "execution_count": 49,
     "metadata": {},
     "output_type": "execute_result"
    }
   ],
   "source": [
    "s1.capitalize()"
   ]
  },
  {
   "cell_type": "code",
   "execution_count": 8,
   "id": "b52f85af",
   "metadata": {
    "ExecuteTime": {
     "end_time": "2023-03-18T12:14:55.775942Z",
     "start_time": "2023-03-18T12:14:55.764395Z"
    }
   },
   "outputs": [],
   "source": [
    "#Join function"
   ]
  },
  {
   "cell_type": "code",
   "execution_count": 52,
   "id": "28ae3a07",
   "metadata": {
    "ExecuteTime": {
     "end_time": "2023-03-21T05:32:53.342265Z",
     "start_time": "2023-03-21T05:32:53.328457Z"
    }
   },
   "outputs": [],
   "source": [
    "st = '-'.join(s1)"
   ]
  },
  {
   "cell_type": "code",
   "execution_count": 53,
   "id": "84511638",
   "metadata": {
    "ExecuteTime": {
     "end_time": "2023-03-21T05:32:55.793806Z",
     "start_time": "2023-03-21T05:32:55.777937Z"
    }
   },
   "outputs": [
    {
     "data": {
      "text/plain": [
       "'W-e- -a-r-e- -L-e-a-r-n-i-n-g- -p-y-t-h-o-n'"
      ]
     },
     "execution_count": 53,
     "metadata": {},
     "output_type": "execute_result"
    }
   ],
   "source": [
    "st"
   ]
  },
  {
   "cell_type": "code",
   "execution_count": 54,
   "id": "36194b4c",
   "metadata": {
    "ExecuteTime": {
     "end_time": "2023-03-21T05:34:32.945623Z",
     "start_time": "2023-03-21T05:34:32.926432Z"
    }
   },
   "outputs": [
    {
     "data": {
      "text/plain": [
       "'W*e* *a*r*e* *L*e*a*r*n*i*n*g* *p*y*t*h*o*n'"
      ]
     },
     "execution_count": 54,
     "metadata": {},
     "output_type": "execute_result"
    }
   ],
   "source": [
    "'*'.join(s1)"
   ]
  },
  {
   "cell_type": "code",
   "execution_count": 9,
   "id": "1c83cfa6",
   "metadata": {
    "ExecuteTime": {
     "end_time": "2023-03-18T12:14:55.792438Z",
     "start_time": "2023-03-18T12:14:55.779740Z"
    }
   },
   "outputs": [],
   "source": [
    "#index"
   ]
  },
  {
   "cell_type": "code",
   "execution_count": 55,
   "id": "b336b0ae",
   "metadata": {
    "ExecuteTime": {
     "end_time": "2023-03-21T05:35:33.160338Z",
     "start_time": "2023-03-21T05:35:33.143049Z"
    }
   },
   "outputs": [
    {
     "data": {
      "text/plain": [
       "'We are Learning python'"
      ]
     },
     "execution_count": 55,
     "metadata": {},
     "output_type": "execute_result"
    }
   ],
   "source": [
    "s1"
   ]
  },
  {
   "cell_type": "code",
   "execution_count": 56,
   "id": "e5c81905",
   "metadata": {
    "ExecuteTime": {
     "end_time": "2023-03-21T05:35:47.554786Z",
     "start_time": "2023-03-21T05:35:47.541737Z"
    }
   },
   "outputs": [
    {
     "data": {
      "text/plain": [
       "7"
      ]
     },
     "execution_count": 56,
     "metadata": {},
     "output_type": "execute_result"
    }
   ],
   "source": [
    "s1.index('Learning')"
   ]
  },
  {
   "cell_type": "code",
   "execution_count": 57,
   "id": "07f0b670",
   "metadata": {
    "ExecuteTime": {
     "end_time": "2023-03-21T05:36:44.549657Z",
     "start_time": "2023-03-21T05:36:44.534662Z"
    }
   },
   "outputs": [
    {
     "ename": "ValueError",
     "evalue": "substring not found",
     "output_type": "error",
     "traceback": [
      "\u001b[1;31m---------------------------------------------------------------------------\u001b[0m",
      "\u001b[1;31mValueError\u001b[0m                                Traceback (most recent call last)",
      "\u001b[1;32m~\\AppData\\Local\\Temp\\ipykernel_26684\\561898543.py\u001b[0m in \u001b[0;36m<module>\u001b[1;34m\u001b[0m\n\u001b[1;32m----> 1\u001b[1;33m \u001b[0ms1\u001b[0m\u001b[1;33m.\u001b[0m\u001b[0mindex\u001b[0m\u001b[1;33m(\u001b[0m\u001b[1;34m'learning'\u001b[0m\u001b[1;33m)\u001b[0m\u001b[1;33m\u001b[0m\u001b[1;33m\u001b[0m\u001b[0m\n\u001b[0m",
      "\u001b[1;31mValueError\u001b[0m: substring not found"
     ]
    }
   ],
   "source": [
    "s1.index('learning')"
   ]
  },
  {
   "cell_type": "code",
   "execution_count": 58,
   "id": "e7f30d86",
   "metadata": {
    "ExecuteTime": {
     "end_time": "2023-03-21T05:37:58.310213Z",
     "start_time": "2023-03-21T05:37:58.291029Z"
    }
   },
   "outputs": [
    {
     "data": {
      "text/plain": [
       "'We are Learning python'"
      ]
     },
     "execution_count": 58,
     "metadata": {},
     "output_type": "execute_result"
    }
   ],
   "source": [
    "s1"
   ]
  },
  {
   "cell_type": "code",
   "execution_count": 59,
   "id": "b1d7ddae",
   "metadata": {
    "ExecuteTime": {
     "end_time": "2023-03-21T05:38:01.657520Z",
     "start_time": "2023-03-21T05:38:01.644982Z"
    }
   },
   "outputs": [
    {
     "data": {
      "text/plain": [
       "'n'"
      ]
     },
     "execution_count": 59,
     "metadata": {},
     "output_type": "execute_result"
    }
   ],
   "source": [
    "s1[-1]"
   ]
  },
  {
   "cell_type": "code",
   "execution_count": 10,
   "id": "8a1daf0a",
   "metadata": {
    "ExecuteTime": {
     "end_time": "2023-03-18T12:14:55.802243Z",
     "start_time": "2023-03-18T12:14:55.795131Z"
    }
   },
   "outputs": [],
   "source": [
    "#Startswith"
   ]
  },
  {
   "cell_type": "code",
   "execution_count": 60,
   "id": "68169690",
   "metadata": {
    "ExecuteTime": {
     "end_time": "2023-03-21T05:40:00.001107Z",
     "start_time": "2023-03-21T05:39:59.990531Z"
    }
   },
   "outputs": [
    {
     "data": {
      "text/plain": [
       "True"
      ]
     },
     "execution_count": 60,
     "metadata": {},
     "output_type": "execute_result"
    }
   ],
   "source": [
    "s1.startswith('W')"
   ]
  },
  {
   "cell_type": "code",
   "execution_count": 61,
   "id": "8de35df0",
   "metadata": {
    "ExecuteTime": {
     "end_time": "2023-03-21T05:40:14.868799Z",
     "start_time": "2023-03-21T05:40:14.852117Z"
    }
   },
   "outputs": [
    {
     "data": {
      "text/plain": [
       "False"
      ]
     },
     "execution_count": 61,
     "metadata": {},
     "output_type": "execute_result"
    }
   ],
   "source": [
    "s1.startswith('a')"
   ]
  },
  {
   "cell_type": "code",
   "execution_count": 11,
   "id": "0ede6c13",
   "metadata": {
    "ExecuteTime": {
     "end_time": "2023-03-18T12:14:55.817673Z",
     "start_time": "2023-03-18T12:14:55.811184Z"
    }
   },
   "outputs": [],
   "source": [
    "#replace"
   ]
  },
  {
   "cell_type": "code",
   "execution_count": 62,
   "id": "1091ce76",
   "metadata": {
    "ExecuteTime": {
     "end_time": "2023-03-21T05:40:37.203566Z",
     "start_time": "2023-03-21T05:40:37.195606Z"
    }
   },
   "outputs": [
    {
     "data": {
      "text/plain": [
       "'We are Learning python'"
      ]
     },
     "execution_count": 62,
     "metadata": {},
     "output_type": "execute_result"
    }
   ],
   "source": [
    "s1"
   ]
  },
  {
   "cell_type": "code",
   "execution_count": 65,
   "id": "4787d34a",
   "metadata": {
    "ExecuteTime": {
     "end_time": "2023-03-21T05:41:57.584195Z",
     "start_time": "2023-03-21T05:41:57.571956Z"
    }
   },
   "outputs": [],
   "source": [
    "s1 = s1.replace('We','They')"
   ]
  },
  {
   "cell_type": "code",
   "execution_count": 66,
   "id": "9cd45fe1",
   "metadata": {
    "ExecuteTime": {
     "end_time": "2023-03-21T05:41:58.731802Z",
     "start_time": "2023-03-21T05:41:58.713170Z"
    }
   },
   "outputs": [
    {
     "data": {
      "text/plain": [
       "'They are Learning python'"
      ]
     },
     "execution_count": 66,
     "metadata": {},
     "output_type": "execute_result"
    }
   ],
   "source": [
    "s1"
   ]
  },
  {
   "cell_type": "code",
   "execution_count": 12,
   "id": "718144e8",
   "metadata": {
    "ExecuteTime": {
     "end_time": "2023-03-18T12:14:55.832851Z",
     "start_time": "2023-03-18T12:14:55.825851Z"
    }
   },
   "outputs": [],
   "source": [
    "#Split"
   ]
  },
  {
   "cell_type": "code",
   "execution_count": 68,
   "id": "c26137c1",
   "metadata": {
    "ExecuteTime": {
     "end_time": "2023-03-21T05:44:36.688878Z",
     "start_time": "2023-03-21T05:44:36.672823Z"
    }
   },
   "outputs": [
    {
     "data": {
      "text/plain": [
       "'Milk,bread,Cheese'"
      ]
     },
     "execution_count": 68,
     "metadata": {},
     "output_type": "execute_result"
    }
   ],
   "source": [
    "s = 'Milk,bread,Cheese'\n",
    "s"
   ]
  },
  {
   "cell_type": "code",
   "execution_count": 71,
   "id": "107cb9c8",
   "metadata": {
    "ExecuteTime": {
     "end_time": "2023-03-21T05:45:14.001320Z",
     "start_time": "2023-03-21T05:45:13.995101Z"
    }
   },
   "outputs": [],
   "source": [
    "s = s.split(',')"
   ]
  },
  {
   "cell_type": "code",
   "execution_count": 72,
   "id": "d555d233",
   "metadata": {
    "ExecuteTime": {
     "end_time": "2023-03-21T05:45:14.340313Z",
     "start_time": "2023-03-21T05:45:14.322787Z"
    }
   },
   "outputs": [
    {
     "data": {
      "text/plain": [
       "['Milk', 'bread', 'Cheese']"
      ]
     },
     "execution_count": 72,
     "metadata": {},
     "output_type": "execute_result"
    }
   ],
   "source": [
    "s"
   ]
  },
  {
   "cell_type": "code",
   "execution_count": 76,
   "id": "7dc66dee",
   "metadata": {
    "ExecuteTime": {
     "end_time": "2023-03-21T05:47:27.234389Z",
     "start_time": "2023-03-21T05:47:27.215439Z"
    }
   },
   "outputs": [],
   "source": [
    "s1 = 'Cheese/bread/ice-cream'\n",
    "s1 = s1.split('/')"
   ]
  },
  {
   "cell_type": "code",
   "execution_count": 77,
   "id": "558c28b0",
   "metadata": {
    "ExecuteTime": {
     "end_time": "2023-03-21T05:47:28.555555Z",
     "start_time": "2023-03-21T05:47:28.538190Z"
    }
   },
   "outputs": [
    {
     "data": {
      "text/plain": [
       "['Cheese', 'bread', 'ice-cream']"
      ]
     },
     "execution_count": 77,
     "metadata": {},
     "output_type": "execute_result"
    }
   ],
   "source": [
    "s1"
   ]
  },
  {
   "cell_type": "code",
   "execution_count": 79,
   "id": "c17296a9",
   "metadata": {
    "ExecuteTime": {
     "end_time": "2023-03-21T05:47:58.387434Z",
     "start_time": "2023-03-21T05:47:58.374254Z"
    }
   },
   "outputs": [
    {
     "data": {
      "text/plain": [
       "['Cheese', 'bread', 'ice-cream']"
      ]
     },
     "execution_count": 79,
     "metadata": {},
     "output_type": "execute_result"
    }
   ],
   "source": [
    "s1 = 'Cheese bread ice-cream'\n",
    "s1.split(' ')"
   ]
  },
  {
   "cell_type": "code",
   "execution_count": 13,
   "id": "4f210d86",
   "metadata": {
    "ExecuteTime": {
     "end_time": "2023-03-18T12:14:55.849505Z",
     "start_time": "2023-03-18T12:14:55.843197Z"
    }
   },
   "outputs": [],
   "source": [
    "#Upper"
   ]
  },
  {
   "cell_type": "code",
   "execution_count": 81,
   "id": "090c2677",
   "metadata": {
    "ExecuteTime": {
     "end_time": "2023-03-21T05:48:25.215336Z",
     "start_time": "2023-03-21T05:48:25.205613Z"
    }
   },
   "outputs": [
    {
     "data": {
      "text/plain": [
       "'WE ARE LEARNING PYTHON'"
      ]
     },
     "execution_count": 81,
     "metadata": {},
     "output_type": "execute_result"
    }
   ],
   "source": [
    "s2.upper()"
   ]
  },
  {
   "cell_type": "code",
   "execution_count": 14,
   "id": "1bb16fb7",
   "metadata": {
    "ExecuteTime": {
     "end_time": "2023-03-18T12:14:55.882204Z",
     "start_time": "2023-03-18T12:14:55.861380Z"
    }
   },
   "outputs": [],
   "source": [
    "#Lower"
   ]
  },
  {
   "cell_type": "code",
   "execution_count": 82,
   "id": "069e432a",
   "metadata": {
    "ExecuteTime": {
     "end_time": "2023-03-21T05:48:46.636469Z",
     "start_time": "2023-03-21T05:48:46.625111Z"
    }
   },
   "outputs": [
    {
     "data": {
      "text/plain": [
       "'we are learning python'"
      ]
     },
     "execution_count": 82,
     "metadata": {},
     "output_type": "execute_result"
    }
   ],
   "source": [
    "s2.lower()"
   ]
  },
  {
   "cell_type": "code",
   "execution_count": 15,
   "id": "cfe1ad7e",
   "metadata": {
    "ExecuteTime": {
     "end_time": "2023-03-18T12:14:55.898967Z",
     "start_time": "2023-03-18T12:14:55.884700Z"
    }
   },
   "outputs": [],
   "source": [
    "#Title"
   ]
  },
  {
   "cell_type": "code",
   "execution_count": 83,
   "id": "23291f93",
   "metadata": {
    "ExecuteTime": {
     "end_time": "2023-03-21T05:49:03.714484Z",
     "start_time": "2023-03-21T05:49:03.698508Z"
    }
   },
   "outputs": [
    {
     "data": {
      "text/plain": [
       "'We Are Learning Python'"
      ]
     },
     "execution_count": 83,
     "metadata": {},
     "output_type": "execute_result"
    }
   ],
   "source": [
    "s2.title()"
   ]
  },
  {
   "cell_type": "markdown",
   "id": "48220fa4",
   "metadata": {},
   "source": [
    "# Data Structures\n",
    "1. Lists\n",
    "2. Tuple\n",
    "3. Dictionary\n",
    "4. Sets"
   ]
  },
  {
   "cell_type": "markdown",
   "id": "78753086",
   "metadata": {},
   "source": [
    "**Lists**\n",
    "\n",
    "- Lists are the built in data structures in python.\n",
    "- Lists are heterogenous data structure.\n",
    "- Lists are mutable."
   ]
  },
  {
   "cell_type": "code",
   "execution_count": 16,
   "id": "8417c924",
   "metadata": {
    "ExecuteTime": {
     "end_time": "2023-03-18T12:14:55.914888Z",
     "start_time": "2023-03-18T12:14:55.901146Z"
    }
   },
   "outputs": [],
   "source": [
    "#Creating lists"
   ]
  },
  {
   "cell_type": "code",
   "execution_count": 85,
   "id": "f1570c8d",
   "metadata": {
    "ExecuteTime": {
     "end_time": "2023-03-21T05:54:28.781896Z",
     "start_time": "2023-03-21T05:54:28.762149Z"
    }
   },
   "outputs": [
    {
     "data": {
      "text/plain": [
       "list"
      ]
     },
     "execution_count": 85,
     "metadata": {},
     "output_type": "execute_result"
    }
   ],
   "source": [
    "lst = list()\n",
    "lst\n",
    "type(lst)"
   ]
  },
  {
   "cell_type": "code",
   "execution_count": 86,
   "id": "3f4790ef",
   "metadata": {
    "ExecuteTime": {
     "end_time": "2023-03-21T05:54:45.705734Z",
     "start_time": "2023-03-21T05:54:45.684699Z"
    }
   },
   "outputs": [
    {
     "data": {
      "text/plain": [
       "list"
      ]
     },
     "execution_count": 86,
     "metadata": {},
     "output_type": "execute_result"
    }
   ],
   "source": [
    "lst = []\n",
    "type(lst)"
   ]
  },
  {
   "cell_type": "code",
   "execution_count": 17,
   "id": "8884c02e",
   "metadata": {
    "ExecuteTime": {
     "end_time": "2023-03-18T12:14:55.930661Z",
     "start_time": "2023-03-18T12:14:55.916062Z"
    }
   },
   "outputs": [],
   "source": [
    "#Add elements inside list"
   ]
  },
  {
   "cell_type": "code",
   "execution_count": 87,
   "id": "abd528a2",
   "metadata": {
    "ExecuteTime": {
     "end_time": "2023-03-21T05:56:04.710791Z",
     "start_time": "2023-03-21T05:56:04.704480Z"
    }
   },
   "outputs": [
    {
     "data": {
      "text/plain": [
       "[10, 1.5, True, 'Python']"
      ]
     },
     "execution_count": 87,
     "metadata": {},
     "output_type": "execute_result"
    }
   ],
   "source": [
    "lst = [10,1.5,True,'Python']\n",
    "lst"
   ]
  },
  {
   "cell_type": "code",
   "execution_count": 89,
   "id": "0ae2e07b",
   "metadata": {
    "ExecuteTime": {
     "end_time": "2023-03-21T05:57:00.685851Z",
     "start_time": "2023-03-21T05:57:00.672691Z"
    }
   },
   "outputs": [
    {
     "data": {
      "text/plain": [
       "'Python'"
      ]
     },
     "execution_count": 89,
     "metadata": {},
     "output_type": "execute_result"
    }
   ],
   "source": [
    "#Accessing elements from a list\n",
    "lst[-1]"
   ]
  },
  {
   "cell_type": "code",
   "execution_count": 91,
   "id": "def7bd1a",
   "metadata": {
    "ExecuteTime": {
     "end_time": "2023-03-21T05:58:00.264627Z",
     "start_time": "2023-03-21T05:58:00.255970Z"
    }
   },
   "outputs": [
    {
     "data": {
      "text/plain": [
       "[10, 1.5, True]"
      ]
     },
     "execution_count": 91,
     "metadata": {},
     "output_type": "execute_result"
    }
   ],
   "source": [
    "lst[0:3]"
   ]
  },
  {
   "cell_type": "code",
   "execution_count": 19,
   "id": "405e6788",
   "metadata": {
    "ExecuteTime": {
     "end_time": "2023-03-18T12:14:55.970885Z",
     "start_time": "2023-03-18T12:14:55.946457Z"
    }
   },
   "outputs": [],
   "source": [
    "#append"
   ]
  },
  {
   "cell_type": "code",
   "execution_count": 92,
   "id": "6fbff13b",
   "metadata": {
    "ExecuteTime": {
     "end_time": "2023-03-21T05:59:09.349251Z",
     "start_time": "2023-03-21T05:59:09.331104Z"
    }
   },
   "outputs": [],
   "source": [
    "lst.append('Machine Learning')"
   ]
  },
  {
   "cell_type": "code",
   "execution_count": 93,
   "id": "4676126e",
   "metadata": {
    "ExecuteTime": {
     "end_time": "2023-03-21T05:59:14.225151Z",
     "start_time": "2023-03-21T05:59:14.213565Z"
    }
   },
   "outputs": [
    {
     "data": {
      "text/plain": [
       "[10, 1.5, True, 'Python', 'Machine Learning']"
      ]
     },
     "execution_count": 93,
     "metadata": {},
     "output_type": "execute_result"
    }
   ],
   "source": [
    "lst"
   ]
  },
  {
   "cell_type": "code",
   "execution_count": 20,
   "id": "3b379bef",
   "metadata": {
    "ExecuteTime": {
     "end_time": "2023-03-18T12:14:55.986326Z",
     "start_time": "2023-03-18T12:14:55.974805Z"
    }
   },
   "outputs": [],
   "source": [
    "#Count "
   ]
  },
  {
   "cell_type": "code",
   "execution_count": 94,
   "id": "41e60574",
   "metadata": {
    "ExecuteTime": {
     "end_time": "2023-03-21T06:00:21.396876Z",
     "start_time": "2023-03-21T06:00:21.388300Z"
    }
   },
   "outputs": [
    {
     "data": {
      "text/plain": [
       "1"
      ]
     },
     "execution_count": 94,
     "metadata": {},
     "output_type": "execute_result"
    }
   ],
   "source": [
    "lst.count('Python')"
   ]
  },
  {
   "cell_type": "code",
   "execution_count": 95,
   "id": "7182cfcf",
   "metadata": {
    "ExecuteTime": {
     "end_time": "2023-03-21T06:00:38.946170Z",
     "start_time": "2023-03-21T06:00:38.939374Z"
    }
   },
   "outputs": [
    {
     "data": {
      "text/plain": [
       "0"
      ]
     },
     "execution_count": 95,
     "metadata": {},
     "output_type": "execute_result"
    }
   ],
   "source": [
    "lst.count(100)"
   ]
  },
  {
   "cell_type": "code",
   "execution_count": 21,
   "id": "d6b0a78f",
   "metadata": {
    "ExecuteTime": {
     "end_time": "2023-03-18T12:14:56.001755Z",
     "start_time": "2023-03-18T12:14:55.989557Z"
    }
   },
   "outputs": [],
   "source": [
    "#Index"
   ]
  },
  {
   "cell_type": "code",
   "execution_count": 96,
   "id": "04130f5c",
   "metadata": {
    "ExecuteTime": {
     "end_time": "2023-03-21T06:01:18.975938Z",
     "start_time": "2023-03-21T06:01:18.963880Z"
    }
   },
   "outputs": [
    {
     "data": {
      "text/plain": [
       "4"
      ]
     },
     "execution_count": 96,
     "metadata": {},
     "output_type": "execute_result"
    }
   ],
   "source": [
    "lst.index('Machine Learning')"
   ]
  },
  {
   "cell_type": "code",
   "execution_count": 97,
   "id": "777b87f7",
   "metadata": {
    "ExecuteTime": {
     "end_time": "2023-03-21T06:01:40.955605Z",
     "start_time": "2023-03-21T06:01:40.945591Z"
    }
   },
   "outputs": [
    {
     "data": {
      "text/plain": [
       "2"
      ]
     },
     "execution_count": 97,
     "metadata": {},
     "output_type": "execute_result"
    }
   ],
   "source": [
    "lst.index(True)"
   ]
  },
  {
   "cell_type": "code",
   "execution_count": 22,
   "id": "ec790de7",
   "metadata": {
    "ExecuteTime": {
     "end_time": "2023-03-18T12:14:56.028304Z",
     "start_time": "2023-03-18T12:14:56.003776Z"
    }
   },
   "outputs": [],
   "source": [
    "#Insert"
   ]
  },
  {
   "cell_type": "code",
   "execution_count": 98,
   "id": "06f4ca49",
   "metadata": {
    "ExecuteTime": {
     "end_time": "2023-03-21T06:02:22.333520Z",
     "start_time": "2023-03-21T06:02:22.315809Z"
    }
   },
   "outputs": [
    {
     "data": {
      "text/plain": [
       "[10, 1.5, True, 'Python', 'Machine Learning']"
      ]
     },
     "execution_count": 98,
     "metadata": {},
     "output_type": "execute_result"
    }
   ],
   "source": [
    "lst"
   ]
  },
  {
   "cell_type": "code",
   "execution_count": 99,
   "id": "45aac18b",
   "metadata": {
    "ExecuteTime": {
     "end_time": "2023-03-21T06:02:33.071512Z",
     "start_time": "2023-03-21T06:02:33.062055Z"
    }
   },
   "outputs": [],
   "source": [
    "lst.insert(0,1000)"
   ]
  },
  {
   "cell_type": "code",
   "execution_count": 101,
   "id": "7bb906d0",
   "metadata": {
    "ExecuteTime": {
     "end_time": "2023-03-21T06:04:02.225136Z",
     "start_time": "2023-03-21T06:04:02.217437Z"
    }
   },
   "outputs": [],
   "source": [
    "lst.insert(1,'R')"
   ]
  },
  {
   "cell_type": "code",
   "execution_count": 102,
   "id": "1accf4fb",
   "metadata": {
    "ExecuteTime": {
     "end_time": "2023-03-21T06:04:05.989954Z",
     "start_time": "2023-03-21T06:04:05.977277Z"
    }
   },
   "outputs": [
    {
     "data": {
      "text/plain": [
       "[1000, 'R', 10, 1.5, True, 'Python', 'Machine Learning']"
      ]
     },
     "execution_count": 102,
     "metadata": {},
     "output_type": "execute_result"
    }
   ],
   "source": [
    "lst"
   ]
  },
  {
   "cell_type": "code",
   "execution_count": null,
   "id": "cc3629cb",
   "metadata": {
    "ExecuteTime": {
     "end_time": "2023-03-18T12:14:56.451159Z",
     "start_time": "2023-03-18T12:14:56.451159Z"
    }
   },
   "outputs": [],
   "source": [
    "#pop"
   ]
  },
  {
   "cell_type": "code",
   "execution_count": 103,
   "id": "5fd7d1ba",
   "metadata": {
    "ExecuteTime": {
     "end_time": "2023-03-21T06:04:45.025239Z",
     "start_time": "2023-03-21T06:04:45.015082Z"
    }
   },
   "outputs": [
    {
     "data": {
      "text/plain": [
       "'Machine Learning'"
      ]
     },
     "execution_count": 103,
     "metadata": {},
     "output_type": "execute_result"
    }
   ],
   "source": [
    "lst.pop()"
   ]
  },
  {
   "cell_type": "code",
   "execution_count": 104,
   "id": "c97d9765",
   "metadata": {
    "ExecuteTime": {
     "end_time": "2023-03-21T06:04:53.988119Z",
     "start_time": "2023-03-21T06:04:53.974224Z"
    }
   },
   "outputs": [
    {
     "data": {
      "text/plain": [
       "[1000, 'R', 10, 1.5, True, 'Python']"
      ]
     },
     "execution_count": 104,
     "metadata": {},
     "output_type": "execute_result"
    }
   ],
   "source": [
    "lst"
   ]
  },
  {
   "cell_type": "code",
   "execution_count": null,
   "id": "041ea0f3",
   "metadata": {
    "ExecuteTime": {
     "end_time": "2023-03-18T12:14:56.451159Z",
     "start_time": "2023-03-18T12:14:56.451159Z"
    }
   },
   "outputs": [],
   "source": [
    "#reverse"
   ]
  },
  {
   "cell_type": "code",
   "execution_count": 105,
   "id": "88092c1b",
   "metadata": {
    "ExecuteTime": {
     "end_time": "2023-03-21T06:05:17.648899Z",
     "start_time": "2023-03-21T06:05:17.638748Z"
    }
   },
   "outputs": [],
   "source": [
    "lst.reverse()"
   ]
  },
  {
   "cell_type": "code",
   "execution_count": 106,
   "id": "48439de8",
   "metadata": {
    "ExecuteTime": {
     "end_time": "2023-03-21T06:05:22.294972Z",
     "start_time": "2023-03-21T06:05:22.289011Z"
    }
   },
   "outputs": [
    {
     "data": {
      "text/plain": [
       "['Python', True, 1.5, 10, 'R', 1000]"
      ]
     },
     "execution_count": 106,
     "metadata": {},
     "output_type": "execute_result"
    }
   ],
   "source": [
    "lst"
   ]
  },
  {
   "cell_type": "code",
   "execution_count": null,
   "id": "e5a6f491",
   "metadata": {
    "ExecuteTime": {
     "end_time": "2023-03-18T12:14:56.458287Z",
     "start_time": "2023-03-18T12:14:56.458287Z"
    }
   },
   "outputs": [],
   "source": [
    "#remove"
   ]
  },
  {
   "cell_type": "code",
   "execution_count": 107,
   "id": "d079c056",
   "metadata": {
    "ExecuteTime": {
     "end_time": "2023-03-21T06:05:48.588128Z",
     "start_time": "2023-03-21T06:05:48.573898Z"
    }
   },
   "outputs": [],
   "source": [
    "lst.remove(True)"
   ]
  },
  {
   "cell_type": "code",
   "execution_count": 108,
   "id": "8e316c6c",
   "metadata": {
    "ExecuteTime": {
     "end_time": "2023-03-21T06:05:50.988060Z",
     "start_time": "2023-03-21T06:05:50.973941Z"
    }
   },
   "outputs": [
    {
     "data": {
      "text/plain": [
       "['Python', 1.5, 10, 'R', 1000]"
      ]
     },
     "execution_count": 108,
     "metadata": {},
     "output_type": "execute_result"
    }
   ],
   "source": [
    "lst"
   ]
  },
  {
   "cell_type": "code",
   "execution_count": null,
   "id": "2c6eb636",
   "metadata": {
    "ExecuteTime": {
     "end_time": "2023-03-18T12:14:56.462561Z",
     "start_time": "2023-03-18T12:14:56.462561Z"
    }
   },
   "outputs": [],
   "source": [
    "#Replacing elements in lists"
   ]
  },
  {
   "cell_type": "code",
   "execution_count": 109,
   "id": "521b8b04",
   "metadata": {
    "ExecuteTime": {
     "end_time": "2023-03-21T06:06:23.978051Z",
     "start_time": "2023-03-21T06:06:23.964695Z"
    }
   },
   "outputs": [
    {
     "data": {
      "text/plain": [
       "['Python', 1.5, 10, 'R', 1000]"
      ]
     },
     "execution_count": 109,
     "metadata": {},
     "output_type": "execute_result"
    }
   ],
   "source": [
    "lst"
   ]
  },
  {
   "cell_type": "code",
   "execution_count": 111,
   "id": "1191f014",
   "metadata": {
    "ExecuteTime": {
     "end_time": "2023-03-21T06:06:58.504891Z",
     "start_time": "2023-03-21T06:06:58.488625Z"
    }
   },
   "outputs": [],
   "source": [
    "lst[1] = 5000"
   ]
  },
  {
   "cell_type": "code",
   "execution_count": 112,
   "id": "01d531dd",
   "metadata": {
    "ExecuteTime": {
     "end_time": "2023-03-21T06:07:01.012858Z",
     "start_time": "2023-03-21T06:07:00.991065Z"
    }
   },
   "outputs": [
    {
     "data": {
      "text/plain": [
       "['Python', 5000, 10, 'R', 1000]"
      ]
     },
     "execution_count": 112,
     "metadata": {},
     "output_type": "execute_result"
    }
   ],
   "source": [
    "lst"
   ]
  },
  {
   "cell_type": "markdown",
   "id": "5dbba063",
   "metadata": {},
   "source": [
    "**Tuple**\n",
    "\n",
    "- Tuples are ordered and heterogenous data structure.\n",
    "- Tuples are immutable."
   ]
  },
  {
   "cell_type": "code",
   "execution_count": null,
   "id": "174d82a7",
   "metadata": {
    "ExecuteTime": {
     "end_time": "2023-03-18T12:14:56.466591Z",
     "start_time": "2023-03-18T12:14:56.466591Z"
    }
   },
   "outputs": [],
   "source": [
    "#Create a tuple"
   ]
  },
  {
   "cell_type": "code",
   "execution_count": 113,
   "id": "52b0c1d4",
   "metadata": {
    "ExecuteTime": {
     "end_time": "2023-03-21T06:07:53.171996Z",
     "start_time": "2023-03-21T06:07:53.160064Z"
    }
   },
   "outputs": [
    {
     "data": {
      "text/plain": [
       "tuple"
      ]
     },
     "execution_count": 113,
     "metadata": {},
     "output_type": "execute_result"
    }
   ],
   "source": [
    "t = ()\n",
    "type(t)"
   ]
  },
  {
   "cell_type": "code",
   "execution_count": 114,
   "id": "9d6cc3a9",
   "metadata": {
    "ExecuteTime": {
     "end_time": "2023-03-21T06:08:27.263331Z",
     "start_time": "2023-03-21T06:08:27.258372Z"
    }
   },
   "outputs": [],
   "source": [
    "t = (10,1.5,'Python',False)"
   ]
  },
  {
   "cell_type": "code",
   "execution_count": 115,
   "id": "5b616bb0",
   "metadata": {
    "ExecuteTime": {
     "end_time": "2023-03-21T06:08:30.120354Z",
     "start_time": "2023-03-21T06:08:30.105993Z"
    }
   },
   "outputs": [
    {
     "data": {
      "text/plain": [
       "(10, 1.5, 'Python', False)"
      ]
     },
     "execution_count": 115,
     "metadata": {},
     "output_type": "execute_result"
    }
   ],
   "source": [
    "t"
   ]
  },
  {
   "cell_type": "code",
   "execution_count": 116,
   "id": "d3487aba",
   "metadata": {
    "ExecuteTime": {
     "end_time": "2023-03-21T06:08:55.148165Z",
     "start_time": "2023-03-21T06:08:55.127016Z"
    }
   },
   "outputs": [
    {
     "data": {
      "text/plain": [
       "1"
      ]
     },
     "execution_count": 116,
     "metadata": {},
     "output_type": "execute_result"
    }
   ],
   "source": [
    "t.count(1.5)"
   ]
  },
  {
   "cell_type": "code",
   "execution_count": 117,
   "id": "575b6fd7",
   "metadata": {
    "ExecuteTime": {
     "end_time": "2023-03-21T06:09:01.916885Z",
     "start_time": "2023-03-21T06:09:01.911479Z"
    }
   },
   "outputs": [
    {
     "data": {
      "text/plain": [
       "0"
      ]
     },
     "execution_count": 117,
     "metadata": {},
     "output_type": "execute_result"
    }
   ],
   "source": [
    "t.index(10)"
   ]
  },
  {
   "cell_type": "code",
   "execution_count": null,
   "id": "e6436ef7",
   "metadata": {
    "ExecuteTime": {
     "end_time": "2023-03-18T12:14:56.468879Z",
     "start_time": "2023-03-18T12:14:56.468879Z"
    }
   },
   "outputs": [],
   "source": [
    "#Accessing elements from tuple"
   ]
  },
  {
   "cell_type": "code",
   "execution_count": 118,
   "id": "a913ba15",
   "metadata": {
    "ExecuteTime": {
     "end_time": "2023-03-21T06:09:38.391269Z",
     "start_time": "2023-03-21T06:09:38.376907Z"
    }
   },
   "outputs": [
    {
     "data": {
      "text/plain": [
       "'Python'"
      ]
     },
     "execution_count": 118,
     "metadata": {},
     "output_type": "execute_result"
    }
   ],
   "source": [
    "t[2]"
   ]
  },
  {
   "cell_type": "code",
   "execution_count": null,
   "id": "bd50381a",
   "metadata": {
    "ExecuteTime": {
     "end_time": "2023-03-18T12:14:56.474894Z",
     "start_time": "2023-03-18T12:14:56.474894Z"
    }
   },
   "outputs": [],
   "source": [
    "#Replacing elements"
   ]
  },
  {
   "cell_type": "code",
   "execution_count": 119,
   "id": "9af3e5b9",
   "metadata": {
    "ExecuteTime": {
     "end_time": "2023-03-21T06:09:54.172639Z",
     "start_time": "2023-03-21T06:09:54.165698Z"
    }
   },
   "outputs": [
    {
     "data": {
      "text/plain": [
       "(10, 1.5, 'Python', False)"
      ]
     },
     "execution_count": 119,
     "metadata": {},
     "output_type": "execute_result"
    }
   ],
   "source": [
    "t"
   ]
  },
  {
   "cell_type": "code",
   "execution_count": 120,
   "id": "862e38c3",
   "metadata": {
    "ExecuteTime": {
     "end_time": "2023-03-21T06:10:07.500181Z",
     "start_time": "2023-03-21T06:10:07.483664Z"
    }
   },
   "outputs": [
    {
     "ename": "TypeError",
     "evalue": "'tuple' object does not support item assignment",
     "output_type": "error",
     "traceback": [
      "\u001b[1;31m---------------------------------------------------------------------------\u001b[0m",
      "\u001b[1;31mTypeError\u001b[0m                                 Traceback (most recent call last)",
      "\u001b[1;32m~\\AppData\\Local\\Temp\\ipykernel_26684\\3254123210.py\u001b[0m in \u001b[0;36m<module>\u001b[1;34m\u001b[0m\n\u001b[1;32m----> 1\u001b[1;33m \u001b[0mt\u001b[0m\u001b[1;33m[\u001b[0m\u001b[1;36m1\u001b[0m\u001b[1;33m]\u001b[0m \u001b[1;33m=\u001b[0m \u001b[1;36m100\u001b[0m\u001b[1;33m\u001b[0m\u001b[1;33m\u001b[0m\u001b[0m\n\u001b[0m",
      "\u001b[1;31mTypeError\u001b[0m: 'tuple' object does not support item assignment"
     ]
    }
   ],
   "source": [
    "t[1] = 100"
   ]
  },
  {
   "cell_type": "code",
   "execution_count": 122,
   "id": "68f34c47",
   "metadata": {
    "ExecuteTime": {
     "end_time": "2023-03-21T06:11:40.911276Z",
     "start_time": "2023-03-21T06:11:40.904694Z"
    }
   },
   "outputs": [
    {
     "data": {
      "text/plain": [
       "list"
      ]
     },
     "execution_count": 122,
     "metadata": {},
     "output_type": "execute_result"
    }
   ],
   "source": [
    "t1 = list(t)\n",
    "type(t1)"
   ]
  },
  {
   "cell_type": "code",
   "execution_count": 123,
   "id": "d1c38758",
   "metadata": {
    "ExecuteTime": {
     "end_time": "2023-03-21T06:11:57.878782Z",
     "start_time": "2023-03-21T06:11:57.864543Z"
    }
   },
   "outputs": [
    {
     "data": {
      "text/plain": [
       "[10, 100, 'Python', False]"
      ]
     },
     "execution_count": 123,
     "metadata": {},
     "output_type": "execute_result"
    }
   ],
   "source": [
    "t1[1] = 100\n",
    "t1"
   ]
  },
  {
   "cell_type": "code",
   "execution_count": 124,
   "id": "0606a994",
   "metadata": {
    "ExecuteTime": {
     "end_time": "2023-03-21T06:12:12.961764Z",
     "start_time": "2023-03-21T06:12:12.952298Z"
    }
   },
   "outputs": [],
   "source": [
    "t1.append('DL')"
   ]
  },
  {
   "cell_type": "code",
   "execution_count": 125,
   "id": "c1463d35",
   "metadata": {
    "ExecuteTime": {
     "end_time": "2023-03-21T06:12:15.494217Z",
     "start_time": "2023-03-21T06:12:15.484672Z"
    }
   },
   "outputs": [
    {
     "data": {
      "text/plain": [
       "[10, 100, 'Python', False, 'DL']"
      ]
     },
     "execution_count": 125,
     "metadata": {},
     "output_type": "execute_result"
    }
   ],
   "source": [
    "t1"
   ]
  },
  {
   "cell_type": "code",
   "execution_count": 126,
   "id": "b020c463",
   "metadata": {
    "ExecuteTime": {
     "end_time": "2023-03-21T06:12:36.842871Z",
     "start_time": "2023-03-21T06:12:36.823775Z"
    }
   },
   "outputs": [
    {
     "data": {
      "text/plain": [
       "(10, 100, 'Python', False, 'DL')"
      ]
     },
     "execution_count": 126,
     "metadata": {},
     "output_type": "execute_result"
    }
   ],
   "source": [
    "t = tuple(t1)\n",
    "t"
   ]
  },
  {
   "cell_type": "code",
   "execution_count": 127,
   "id": "377b51f6",
   "metadata": {
    "ExecuteTime": {
     "end_time": "2023-03-21T06:12:57.376812Z",
     "start_time": "2023-03-21T06:12:57.369190Z"
    }
   },
   "outputs": [
    {
     "data": {
      "text/plain": [
       "tuple"
      ]
     },
     "execution_count": 127,
     "metadata": {},
     "output_type": "execute_result"
    }
   ],
   "source": [
    "type(t)"
   ]
  },
  {
   "cell_type": "markdown",
   "id": "fb3d7af9",
   "metadata": {},
   "source": [
    "**Dictionary**\n",
    "\n",
    "- Python dictionaries are ordered collection of items.\n",
    "- Dictionary is mutable data structure.\n",
    "- It has key and value pair."
   ]
  },
  {
   "cell_type": "code",
   "execution_count": null,
   "id": "5a7874ad",
   "metadata": {
    "ExecuteTime": {
     "end_time": "2023-03-18T12:14:56.482911Z",
     "start_time": "2023-03-18T12:14:56.482911Z"
    }
   },
   "outputs": [],
   "source": [
    "#Creating an empty dictionary"
   ]
  },
  {
   "cell_type": "code",
   "execution_count": 129,
   "id": "027b0252",
   "metadata": {
    "ExecuteTime": {
     "end_time": "2023-03-21T06:15:26.427152Z",
     "start_time": "2023-03-21T06:15:26.409494Z"
    }
   },
   "outputs": [],
   "source": [
    "d = {10:80,12:85,18:95}"
   ]
  },
  {
   "cell_type": "code",
   "execution_count": 130,
   "id": "de8f6bcf",
   "metadata": {
    "ExecuteTime": {
     "end_time": "2023-03-21T06:15:30.539074Z",
     "start_time": "2023-03-21T06:15:30.525165Z"
    }
   },
   "outputs": [
    {
     "data": {
      "text/plain": [
       "{10: 80, 12: 85, 18: 95}"
      ]
     },
     "execution_count": 130,
     "metadata": {},
     "output_type": "execute_result"
    }
   ],
   "source": [
    "\n",
    "#Adding elements in a dictionary\n",
    "d"
   ]
  },
  {
   "cell_type": "code",
   "execution_count": 132,
   "id": "c62f2131",
   "metadata": {
    "ExecuteTime": {
     "end_time": "2023-03-21T06:17:06.960661Z",
     "start_time": "2023-03-21T06:17:06.953472Z"
    }
   },
   "outputs": [
    {
     "data": {
      "text/plain": [
       "{'Python': 85, 'ML': 90}"
      ]
     },
     "execution_count": 132,
     "metadata": {},
     "output_type": "execute_result"
    }
   ],
   "source": [
    "d = {'Python':85,'ML':90}\n",
    "d"
   ]
  },
  {
   "cell_type": "code",
   "execution_count": null,
   "id": "5639636a",
   "metadata": {
    "ExecuteTime": {
     "end_time": "2023-03-18T12:14:56.490321Z",
     "start_time": "2023-03-18T12:14:56.490321Z"
    }
   },
   "outputs": [],
   "source": [
    "#get"
   ]
  },
  {
   "cell_type": "code",
   "execution_count": 134,
   "id": "2cfa72e3",
   "metadata": {
    "ExecuteTime": {
     "end_time": "2023-03-21T06:17:36.987589Z",
     "start_time": "2023-03-21T06:17:36.971953Z"
    }
   },
   "outputs": [
    {
     "data": {
      "text/plain": [
       "90"
      ]
     },
     "execution_count": 134,
     "metadata": {},
     "output_type": "execute_result"
    }
   ],
   "source": [
    "d.get('ML')"
   ]
  },
  {
   "cell_type": "code",
   "execution_count": null,
   "id": "fdeec872",
   "metadata": {
    "ExecuteTime": {
     "end_time": "2023-03-18T12:14:56.491332Z",
     "start_time": "2023-03-18T12:14:56.491332Z"
    }
   },
   "outputs": [],
   "source": [
    "#items"
   ]
  },
  {
   "cell_type": "code",
   "execution_count": 135,
   "id": "300c3556",
   "metadata": {
    "ExecuteTime": {
     "end_time": "2023-03-21T06:17:45.241271Z",
     "start_time": "2023-03-21T06:17:45.233730Z"
    },
    "scrolled": false
   },
   "outputs": [
    {
     "data": {
      "text/plain": [
       "dict_items([('Python', 85), ('ML', 90)])"
      ]
     },
     "execution_count": 135,
     "metadata": {},
     "output_type": "execute_result"
    }
   ],
   "source": [
    "d.items()"
   ]
  },
  {
   "cell_type": "code",
   "execution_count": null,
   "id": "65a60573",
   "metadata": {
    "ExecuteTime": {
     "end_time": "2023-03-18T12:14:56.497907Z",
     "start_time": "2023-03-18T12:14:56.497907Z"
    }
   },
   "outputs": [],
   "source": [
    "#keys"
   ]
  },
  {
   "cell_type": "code",
   "execution_count": 136,
   "id": "b7d5bcc1",
   "metadata": {
    "ExecuteTime": {
     "end_time": "2023-03-21T06:18:32.903886Z",
     "start_time": "2023-03-21T06:18:32.891482Z"
    }
   },
   "outputs": [
    {
     "data": {
      "text/plain": [
       "dict_keys(['Python', 'ML'])"
      ]
     },
     "execution_count": 136,
     "metadata": {},
     "output_type": "execute_result"
    }
   ],
   "source": [
    "d.keys()"
   ]
  },
  {
   "cell_type": "code",
   "execution_count": 137,
   "id": "093b715b",
   "metadata": {
    "ExecuteTime": {
     "end_time": "2023-03-21T06:19:40.032740Z",
     "start_time": "2023-03-21T06:19:40.015444Z"
    }
   },
   "outputs": [],
   "source": [
    "#Adding values in dictionary(update)\n",
    "d.update({'DL':95})"
   ]
  },
  {
   "cell_type": "code",
   "execution_count": 138,
   "id": "d3f5e395",
   "metadata": {
    "ExecuteTime": {
     "end_time": "2023-03-21T06:19:42.748079Z",
     "start_time": "2023-03-21T06:19:42.727321Z"
    }
   },
   "outputs": [
    {
     "data": {
      "text/plain": [
       "{'Python': 85, 'ML': 90, 'DL': 95}"
      ]
     },
     "execution_count": 138,
     "metadata": {},
     "output_type": "execute_result"
    }
   ],
   "source": [
    "d"
   ]
  },
  {
   "cell_type": "code",
   "execution_count": 140,
   "id": "b3cf1179",
   "metadata": {
    "ExecuteTime": {
     "end_time": "2023-03-21T06:20:24.077587Z",
     "start_time": "2023-03-21T06:20:24.065266Z"
    }
   },
   "outputs": [
    {
     "data": {
      "text/plain": [
       "{'Python': 85, 'ML': 90, 'DL': 95, 'Physics': 85, 'Math': 99}"
      ]
     },
     "execution_count": 140,
     "metadata": {},
     "output_type": "execute_result"
    }
   ],
   "source": [
    "d.update({'Physics':85,'Math':99})\n",
    "d"
   ]
  },
  {
   "cell_type": "code",
   "execution_count": null,
   "id": "116a2fd3",
   "metadata": {
    "ExecuteTime": {
     "end_time": "2023-03-18T12:14:56.505215Z",
     "start_time": "2023-03-18T12:14:56.505215Z"
    }
   },
   "outputs": [],
   "source": [
    "#pop"
   ]
  },
  {
   "cell_type": "code",
   "execution_count": 141,
   "id": "911dd6c1",
   "metadata": {
    "ExecuteTime": {
     "end_time": "2023-03-21T06:21:18.289445Z",
     "start_time": "2023-03-21T06:21:18.268621Z"
    }
   },
   "outputs": [
    {
     "data": {
      "text/plain": [
       "{'Python': 85, 'ML': 90, 'DL': 95, 'Physics': 85, 'Math': 99}"
      ]
     },
     "execution_count": 141,
     "metadata": {},
     "output_type": "execute_result"
    }
   ],
   "source": [
    "d"
   ]
  },
  {
   "cell_type": "code",
   "execution_count": 143,
   "id": "31f071b3",
   "metadata": {
    "ExecuteTime": {
     "end_time": "2023-03-21T06:21:40.863224Z",
     "start_time": "2023-03-21T06:21:40.845988Z"
    }
   },
   "outputs": [
    {
     "data": {
      "text/plain": [
       "85"
      ]
     },
     "execution_count": 143,
     "metadata": {},
     "output_type": "execute_result"
    }
   ],
   "source": [
    "d.pop('Physics')"
   ]
  },
  {
   "cell_type": "code",
   "execution_count": 144,
   "id": "8cca2e01",
   "metadata": {
    "ExecuteTime": {
     "end_time": "2023-03-21T06:21:45.268705Z",
     "start_time": "2023-03-21T06:21:45.262627Z"
    }
   },
   "outputs": [
    {
     "data": {
      "text/plain": [
       "{'Python': 85, 'ML': 90, 'DL': 95, 'Math': 99}"
      ]
     },
     "execution_count": 144,
     "metadata": {},
     "output_type": "execute_result"
    }
   ],
   "source": [
    "d"
   ]
  },
  {
   "cell_type": "code",
   "execution_count": null,
   "id": "1e002393",
   "metadata": {
    "ExecuteTime": {
     "end_time": "2023-03-18T12:14:56.508579Z",
     "start_time": "2023-03-18T12:14:56.508579Z"
    }
   },
   "outputs": [],
   "source": [
    "#values"
   ]
  },
  {
   "cell_type": "code",
   "execution_count": 145,
   "id": "702021e4",
   "metadata": {
    "ExecuteTime": {
     "end_time": "2023-03-21T06:21:57.281089Z",
     "start_time": "2023-03-21T06:21:57.267660Z"
    }
   },
   "outputs": [
    {
     "data": {
      "text/plain": [
       "dict_values([85, 90, 95, 99])"
      ]
     },
     "execution_count": 145,
     "metadata": {},
     "output_type": "execute_result"
    }
   ],
   "source": [
    "d.values()"
   ]
  },
  {
   "cell_type": "markdown",
   "id": "da0825b4",
   "metadata": {},
   "source": [
    "**Set**\n",
    "\n",
    "- Set is a collection which is unordered,unindexed.\n",
    "- Set is immutable.\n",
    "- Sets are unordered, so you cannot be sure in which order the items will appear.\n",
    "- Sets do not allow duplicate values.\n",
    "- Once a set is created, you cannot change its items, but you can remove items and add new items.\n",
    "- As sets are unordered, they do not support indexing and slicing operations."
   ]
  },
  {
   "cell_type": "code",
   "execution_count": 147,
   "id": "f77bace1",
   "metadata": {
    "ExecuteTime": {
     "end_time": "2023-03-21T06:25:04.249057Z",
     "start_time": "2023-03-21T06:25:04.240834Z"
    }
   },
   "outputs": [
    {
     "data": {
      "text/plain": [
       "set"
      ]
     },
     "execution_count": 147,
     "metadata": {},
     "output_type": "execute_result"
    }
   ],
   "source": [
    "#creating an empty set\n",
    "s = {10,52,65,True,'Python'}\n",
    "type(s)"
   ]
  },
  {
   "cell_type": "code",
   "execution_count": 148,
   "id": "4d71c153",
   "metadata": {
    "ExecuteTime": {
     "end_time": "2023-03-21T06:25:24.392723Z",
     "start_time": "2023-03-21T06:25:24.374258Z"
    }
   },
   "outputs": [
    {
     "data": {
      "text/plain": [
       "{10, 52, 65, 'Python', True}"
      ]
     },
     "execution_count": 148,
     "metadata": {},
     "output_type": "execute_result"
    }
   ],
   "source": [
    "s"
   ]
  },
  {
   "cell_type": "code",
   "execution_count": 149,
   "id": "d5c148cf",
   "metadata": {
    "ExecuteTime": {
     "end_time": "2023-03-21T06:26:00.113707Z",
     "start_time": "2023-03-21T06:26:00.107672Z"
    }
   },
   "outputs": [],
   "source": [
    "#Does not allow duplicate items\n",
    "s = {10,10,20,30,30,50}"
   ]
  },
  {
   "cell_type": "code",
   "execution_count": 150,
   "id": "8a016345",
   "metadata": {
    "ExecuteTime": {
     "end_time": "2023-03-21T06:26:07.741276Z",
     "start_time": "2023-03-21T06:26:07.720815Z"
    }
   },
   "outputs": [
    {
     "data": {
      "text/plain": [
       "{10, 20, 30, 50}"
      ]
     },
     "execution_count": 150,
     "metadata": {},
     "output_type": "execute_result"
    }
   ],
   "source": [
    "s"
   ]
  },
  {
   "cell_type": "code",
   "execution_count": 151,
   "id": "037e0a3f",
   "metadata": {
    "ExecuteTime": {
     "end_time": "2023-03-21T06:26:41.885107Z",
     "start_time": "2023-03-21T06:26:41.857961Z"
    }
   },
   "outputs": [
    {
     "ename": "TypeError",
     "evalue": "'set' object is not subscriptable",
     "output_type": "error",
     "traceback": [
      "\u001b[1;31m---------------------------------------------------------------------------\u001b[0m",
      "\u001b[1;31mTypeError\u001b[0m                                 Traceback (most recent call last)",
      "\u001b[1;32m~\\AppData\\Local\\Temp\\ipykernel_26684\\5305873.py\u001b[0m in \u001b[0;36m<module>\u001b[1;34m\u001b[0m\n\u001b[0;32m      1\u001b[0m \u001b[1;31m#Does not support indexing\u001b[0m\u001b[1;33m\u001b[0m\u001b[1;33m\u001b[0m\u001b[0m\n\u001b[1;32m----> 2\u001b[1;33m \u001b[0ms\u001b[0m\u001b[1;33m[\u001b[0m\u001b[1;36m0\u001b[0m\u001b[1;33m]\u001b[0m\u001b[1;33m\u001b[0m\u001b[1;33m\u001b[0m\u001b[0m\n\u001b[0m",
      "\u001b[1;31mTypeError\u001b[0m: 'set' object is not subscriptable"
     ]
    }
   ],
   "source": [
    "#Does not support indexing\n",
    "s[0]"
   ]
  },
  {
   "cell_type": "code",
   "execution_count": 152,
   "id": "e982d040",
   "metadata": {
    "ExecuteTime": {
     "end_time": "2023-03-21T06:26:55.911278Z",
     "start_time": "2023-03-21T06:26:55.898242Z"
    }
   },
   "outputs": [],
   "source": [
    "#Add\n",
    "s.add(100)"
   ]
  },
  {
   "cell_type": "code",
   "execution_count": 153,
   "id": "7560c068",
   "metadata": {
    "ExecuteTime": {
     "end_time": "2023-03-21T06:26:57.942919Z",
     "start_time": "2023-03-21T06:26:57.929289Z"
    }
   },
   "outputs": [
    {
     "data": {
      "text/plain": [
       "{10, 20, 30, 50, 100}"
      ]
     },
     "execution_count": 153,
     "metadata": {},
     "output_type": "execute_result"
    }
   ],
   "source": [
    "s"
   ]
  },
  {
   "cell_type": "code",
   "execution_count": 154,
   "id": "24cc9415",
   "metadata": {
    "ExecuteTime": {
     "end_time": "2023-03-21T06:27:21.104839Z",
     "start_time": "2023-03-21T06:27:21.095827Z"
    }
   },
   "outputs": [
    {
     "data": {
      "text/plain": [
       "100"
      ]
     },
     "execution_count": 154,
     "metadata": {},
     "output_type": "execute_result"
    }
   ],
   "source": [
    "s.pop()"
   ]
  },
  {
   "cell_type": "code",
   "execution_count": 155,
   "id": "9b027940",
   "metadata": {
    "ExecuteTime": {
     "end_time": "2023-03-21T06:27:25.395627Z",
     "start_time": "2023-03-21T06:27:25.375025Z"
    }
   },
   "outputs": [
    {
     "data": {
      "text/plain": [
       "{10, 20, 30, 50}"
      ]
     },
     "execution_count": 155,
     "metadata": {},
     "output_type": "execute_result"
    }
   ],
   "source": [
    "s"
   ]
  },
  {
   "cell_type": "code",
   "execution_count": null,
   "id": "c1f731c7",
   "metadata": {},
   "outputs": [],
   "source": []
  }
 ],
 "metadata": {
  "_draft": {
   "nbviewer_url": "https://gist.github.com/c7e48d2b0f85e662ce272c77589a4f43"
  },
  "gist": {
   "data": {
    "description": "ExcelR/Python_Basics.ipynb",
    "public": true
   },
   "id": "c7e48d2b0f85e662ce272c77589a4f43"
  },
  "kernelspec": {
   "display_name": "Python 3 (ipykernel)",
   "language": "python",
   "name": "python3"
  },
  "language_info": {
   "codemirror_mode": {
    "name": "ipython",
    "version": 3
   },
   "file_extension": ".py",
   "mimetype": "text/x-python",
   "name": "python",
   "nbconvert_exporter": "python",
   "pygments_lexer": "ipython3",
   "version": "3.9.13"
  }
 },
 "nbformat": 4,
 "nbformat_minor": 5
}
